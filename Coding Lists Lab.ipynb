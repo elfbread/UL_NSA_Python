{
  "nbformat": 4,
  "nbformat_minor": 0,
  "metadata": {
    "kernelspec": {
      "display_name": "Python 3",
      "language": "python",
      "name": "python3"
    },
    "language_info": {
      "codemirror_mode": {
        "name": "ipython",
        "version": 3
      },
      "file_extension": ".py",
      "mimetype": "text/x-python",
      "name": "python",
      "nbconvert_exporter": "python",
      "pygments_lexer": "ipython3",
      "version": "3.8.3"
    },
    "colab": {
      "name": "VI_Lab_Coding_Lists Brittany Bell.ipynb",
      "provenance": [],
      "collapsed_sections": [],
      "include_colab_link": true
    }
  },
  "cells": [
    {
      "cell_type": "markdown",
      "metadata": {
        "id": "view-in-github",
        "colab_type": "text"
      },
      "source": [
        "<a href=\"https://colab.research.google.com/github/elfbread/python/blob/main/Coding%20Lists%20Lab.ipynb\" target=\"_parent\"><img src=\"https://colab.research.google.com/assets/colab-badge.svg\" alt=\"Open In Colab\"/></a>"
      ]
    },
    {
      "cell_type": "markdown",
      "metadata": {
        "id": "Qs1kVSVdwgMr"
      },
      "source": [
        "<h1>Lists Lab</h1>"
      ]
    },
    {
      "cell_type": "markdown",
      "metadata": {
        "id": "yD2gkjjHwgMx"
      },
      "source": [
        "<h3>Problem 1</h3>\n",
        "Using what you've learned up to this point in the module, write Python code in the cell below that will define a function named `elim_dups`that receives a list as a parameter and returns a (possibly shorter) list containing only the _unique_ values. Test your function with a list of numbers and a list of strings."
      ]
    },
    {
      "cell_type": "code",
      "metadata": {
        "colab": {
          "base_uri": "https://localhost:8080/"
        },
        "id": "QfjoSV91wgMz",
        "outputId": "54f3949b-9191-4c03-8fe4-17694fbcca6d"
      },
      "source": [
        "my_pets = [\"Fergus\", \"Carly\", \"Floof\", \"Darwin\", \"Sasha\", \"Carly\"]\n",
        "def elim_dups(my_pets):\n",
        "  unique = []\n",
        "\n",
        "  for item in my_pets:\n",
        "    if item in unique:\n",
        "        continue\n",
        "    else:\n",
        "      unique.append(item)\n",
        "  return unique\n",
        "\n",
        "print(elim_dups(my_pets))"
      ],
      "execution_count": null,
      "outputs": [
        {
          "output_type": "stream",
          "text": [
            "['Fergus', 'Carly', 'Floof', 'Darwin', 'Sasha']\n"
          ],
          "name": "stdout"
        }
      ]
    },
    {
      "cell_type": "markdown",
      "metadata": {
        "id": "nm1-9eyPwgM2"
      },
      "source": [
        "<h3>Problem 2</h3>\n",
        "Using what you've learned up to this point in the module, write Python code in the cell below that will input a string from the user consisting of a list of weights separated by a space. Split the input string into a list of strings and then convert each weight string into a __float__ storing the result in another list (a list of numeric weights). Calculate and display the mean weight and then print a report showing each weight and how far above/below the mean it is (by calculating their difference). Weights that are above the mean will have a postiive difference and weights that are below the mean will have a negative difference. Format the output so that each weight and associated difference from the mean appears on a separate line divided into two columns. Output all numbers with 1 decimal place of precision. Be sure to include a header row with column labels in the output as shown in the sample below:\n",
        "<pre>\n",
        "Enter a list of weights (separated by spaces): 100 150 200.0\n",
        "Mean weight: 150.0\n",
        "\n",
        "Weight   Deviation from Mean\n",
        " 100.0    -50.0\n",
        " 150.0      0.0\n",
        " 200.0     50.0</pre>"
      ]
    },
    {
      "cell_type": "code",
      "metadata": {
        "colab": {
          "base_uri": "https://localhost:8080/"
        },
        "id": "8L15J1G0wgM5",
        "outputId": "2dace81d-75c4-49f3-f3ca-f9aded27186d"
      },
      "source": [
        "lst=[] # create empty lst and input weights\n",
        "input_string = input('Enter a list of weights (separated by spaces): ')\n",
        "\n",
        "split_list = input_string.split() # split input strings into individual input\n",
        "\n",
        "for i in range(len(split_list)): # change split strings into float values and append to list\n",
        "   split_list[i] = float(split_list[i])\n",
        "   lst.append(split_list)\n",
        "\n",
        "mean =(sum(split_list)/len(split_list)) # calculate mean of inputted values\n",
        "print(\"Mean weight: \",mean)\n",
        "\n",
        "def mean_diff(weight): # function to calculate difference between mean and input values\n",
        "  return(weight - mean)\n",
        "\n",
        "diff_lst = [] # creating list with difference between mean and input values\n",
        "index = 0\n",
        "while index < len(split_list):\n",
        "  diff_lst.append(mean_diff(split_list[index]))\n",
        "  index = index + 1\n",
        "\n",
        "column1 = split_list # create combined_list and print with split_list in one column and diff_list in other\n",
        "column2 = diff_lst\n",
        "combined_list = \"\\n\".join(\"{}       {}\".format(x, y) for x, y in zip(column1, column2))\n",
        "\n",
        "#final output\n",
        "print(\"Weight\" \"    \" \"Deviation from Mean\")\n",
        "print(combined_list)\n"
      ],
      "execution_count": null,
      "outputs": [
        {
          "output_type": "stream",
          "text": [
            "Enter a list of weights (separated by spaces): 3 4 5\n",
            "Mean weight:  4.0\n",
            "Weight    Deviation from Mean\n",
            "3.0       -1.0\n",
            "4.0       0.0\n",
            "5.0       1.0\n"
          ],
          "name": "stdout"
        }
      ]
    },
    {
      "cell_type": "code",
      "metadata": {
        "colab": {
          "base_uri": "https://localhost:8080/"
        },
        "id": "XNniCziZzi6M",
        "outputId": "349739cb-60c4-4430-fc6a-415f0dcf5af6"
      },
      "source": [
        ""
      ],
      "execution_count": null,
      "outputs": [
        {
          "output_type": "execute_result",
          "data": {
            "text/plain": [
              "1"
            ]
          },
          "metadata": {
            "tags": []
          },
          "execution_count": 44
        }
      ]
    },
    {
      "cell_type": "code",
      "metadata": {
        "id": "9gWjHfAH7I74"
      },
      "source": [
        ""
      ],
      "execution_count": null,
      "outputs": []
    }
  ]
}